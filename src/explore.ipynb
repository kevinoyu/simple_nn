{
 "cells": [
  {
   "cell_type": "code",
   "execution_count": null,
   "metadata": {},
   "outputs": [],
   "source": [
    "from grad_val import GradVal\n",
    "from random import random"
   ]
  },
  {
   "cell_type": "code",
   "execution_count": null,
   "metadata": {},
   "outputs": [],
   "source": [
    "model_size = 3\n",
    "weights = [GradVal(random()) for _ in range(model_size)]\n",
    "params = [GradVal(random()) for _ in range(model_size)]\n",
    "out = [None for _ in range(model_size)]\n",
    "\n",
    "for i, (w, p) in enumerate(zip(weights, params)):\n",
    "    out[i] = (w * p).relu()\n",
    "\n",
    "final = out[0] + out[1] + out[2]"
   ]
  },
  {
   "cell_type": "code",
   "execution_count": null,
   "metadata": {},
   "outputs": [],
   "source": [
    "final.visualize()"
   ]
  },
  {
   "cell_type": "code",
   "execution_count": null,
   "metadata": {},
   "outputs": [],
   "source": [
    "final.backward()\n",
    "final.visualize()"
   ]
  },
  {
   "cell_type": "code",
   "execution_count": 1,
   "metadata": {},
   "outputs": [],
   "source": [
    "from neural_net import *\n",
    "from optimizer import GDOptimizer\n",
    "from loss import MSELoss\n",
    "\n",
    "BATCH_SIZE = 32\n",
    "\n",
    "y_true = np.array([GradVal(random()) for _ in range(BATCH_SIZE)])\n",
    "x = np.array([[GradVal(random()) for _ in range(8)] for _ in range(BATCH_SIZE)])\n",
    "\n",
    "pipeline = [BiasedLinearLayer(8, 16), ReluLayer(), BiasedLinearLayer(16, 8), ReluLayer(), BiasedLinearLayer(8, 1)]\n",
    "model = Model(pipeline=pipeline)\n",
    "optimizer = GDOptimizer(model.parameters(), lr=1e-4)\n",
    "loss = MSELoss()\n",
    "\n",
    "y_pred = model.forward(x)\n",
    "loss_grad = loss.loss(y_pred=y_pred, y_true=y_true)\n",
    "loss_grad.backward()\n",
    "optimizer.optimize()\n",
    "loss_grad.zero_grad()\n"
   ]
  },
  {
   "cell_type": "code",
   "execution_count": 2,
   "metadata": {},
   "outputs": [
    {
     "data": {
      "text/plain": [
       "array([24.612711457690214, 27.497397509711437, 19.365334760250317,\n",
       "       20.7403452364392, 27.643250769148825, 29.01142505453139,\n",
       "       20.460307780618127, 18.795140350595762, 26.284085694258657,\n",
       "       21.751018757315947, 28.00827391940376, 17.034882787797656,\n",
       "       19.26233852673598, 28.134702485591912, 21.595585415915256,\n",
       "       21.433826312046783, 22.975873858832973, 20.460043331328716,\n",
       "       20.76834572145255, 25.849794161662658, 23.35569263175384,\n",
       "       22.192830520754516, 23.463734000176007, 15.49748699050049,\n",
       "       31.091440723057058, 25.225651509053435, 24.496879444667357,\n",
       "       23.801496720512432, 22.916731932939225, 22.922777977074112,\n",
       "       28.620700677950268, 27.596678513502283], dtype=object)"
      ]
     },
     "execution_count": 2,
     "metadata": {},
     "output_type": "execute_result"
    }
   ],
   "source": [
    "y_pred = model.forward(x)\n",
    "loss_grad = loss.loss(y_pred=y_pred, y_true=y_true)\n",
    "loss_grad.backward()\n",
    "optimizer.optimize()\n",
    "y_pred"
   ]
  },
  {
   "cell_type": "code",
   "execution_count": 3,
   "metadata": {},
   "outputs": [
    {
     "data": {
      "text/plain": [
       "537.4289285088021"
      ]
     },
     "execution_count": 3,
     "metadata": {},
     "output_type": "execute_result"
    }
   ],
   "source": [
    "loss_grad.val"
   ]
  },
  {
   "cell_type": "code",
   "execution_count": 4,
   "metadata": {},
   "outputs": [],
   "source": [
    "base = []\n",
    "seen = set()\n",
    "\n",
    "def search(v):\n",
    "    if v in seen:\n",
    "        return\n",
    "    seen.add(v)\n",
    "    \n",
    "    if not v.ancestors:\n",
    "        base.append(v)\n",
    "    \n",
    "    for ancestor in v.ancestors:\n",
    "        search(ancestor)\n",
    "        \n",
    "search(loss_grad)\n",
    "print([k.gradient for k in base if k.gradient != 0])\n",
    "loss_grad.zero_grad()"
   ]
  },
  {
   "cell_type": "code",
   "execution_count": 50,
   "metadata": {},
   "outputs": [],
   "source": []
  },
  {
   "cell_type": "code",
   "execution_count": 53,
   "metadata": {},
   "outputs": [
    {
     "data": {
      "text/plain": [
       "[]"
      ]
     },
     "execution_count": 53,
     "metadata": {},
     "output_type": "execute_result"
    }
   ],
   "source": []
  }
 ],
 "metadata": {
  "kernelspec": {
   "display_name": "dev",
   "language": "python",
   "name": "python3"
  },
  "language_info": {
   "codemirror_mode": {
    "name": "ipython",
    "version": 3
   },
   "file_extension": ".py",
   "mimetype": "text/x-python",
   "name": "python",
   "nbconvert_exporter": "python",
   "pygments_lexer": "ipython3",
   "version": "3.12.2"
  }
 },
 "nbformat": 4,
 "nbformat_minor": 2
}
