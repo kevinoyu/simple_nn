{
 "cells": [
  {
   "cell_type": "code",
   "execution_count": 1,
   "metadata": {},
   "outputs": [
    {
     "name": "stdout",
     "output_type": "stream",
     "text": [
      "MSE Loss: [26.93005773] after 0 iters\n",
      "MSE Loss: [16.14781875] after 25 iters\n",
      "MSE Loss: [8.25719663] after 50 iters\n",
      "MSE Loss: [0.23324729] after 75 iters\n",
      "MSE Loss: [0.91261081] after 100 iters\n",
      "MSE Loss: [0.60822137] after 125 iters\n",
      "MSE Loss: [0.21224207] after 150 iters\n",
      "MSE Loss: [0.12094358] after 175 iters\n",
      "MSE Loss: [0.19081519] after 200 iters\n",
      "MSE Loss: [0.23175909] after 225 iters\n",
      "MSE Loss: [0.18533779] after 250 iters\n",
      "MSE Loss: [0.11993552] after 275 iters\n",
      "MSE Loss: [0.0978816] after 300 iters\n",
      "MSE Loss: [0.09779091] after 325 iters\n",
      "MSE Loss: [0.10334298] after 350 iters\n",
      "MSE Loss: [0.10659513] after 375 iters\n",
      "MSE Loss: [0.10489917] after 400 iters\n",
      "MSE Loss: [0.10013782] after 425 iters\n",
      "MSE Loss: [0.09374829] after 450 iters\n",
      "MSE Loss: [0.0884493] after 475 iters\n",
      "MSE Loss: [0.08620421] after 500 iters\n",
      "MSE Loss: [0.08739964] after 525 iters\n",
      "MSE Loss: [0.0917356] after 550 iters\n",
      "MSE Loss: [0.09747443] after 575 iters\n",
      "MSE Loss: [0.10152244] after 600 iters\n",
      "MSE Loss: [0.10232967] after 625 iters\n",
      "MSE Loss: [0.09990205] after 650 iters\n",
      "MSE Loss: [0.09553624] after 675 iters\n",
      "MSE Loss: [0.09065095] after 700 iters\n",
      "MSE Loss: [0.08747508] after 725 iters\n",
      "MSE Loss: [0.0879068] after 750 iters\n",
      "MSE Loss: [0.09228043] after 775 iters\n",
      "MSE Loss: [0.09967635] after 800 iters\n",
      "MSE Loss: [0.10788906] after 825 iters\n",
      "MSE Loss: [0.11451807] after 850 iters\n",
      "MSE Loss: [0.1173875] after 875 iters\n",
      "MSE Loss: [0.11596068] after 900 iters\n",
      "MSE Loss: [0.11077305] after 925 iters\n",
      "MSE Loss: [0.10355891] after 950 iters\n",
      "MSE Loss: [0.09683285] after 975 iters\n"
     ]
    }
   ],
   "source": [
    "from nn.model import *\n",
    "from nn.optimizer import GDOptimizer\n",
    "from nn.loss import MSELoss\n",
    "from nn.vector_net import *\n",
    "from gradient.grad_vector import GradVector\n",
    "\n",
    "BATCH_SIZE = 256\n",
    "FEATURE_SIZE = 16\n",
    "MAX_ITER = 1000\n",
    "\n",
    "y_true = GradVector(np.random.rand(BATCH_SIZE, 1))\n",
    "x = GradVector(np.random.rand(BATCH_SIZE, FEATURE_SIZE))\n",
    "\n",
    "pipeline = [VectorLinearLayer(FEATURE_SIZE, FEATURE_SIZE * 2), VectorReluLayer(), VectorLinearLayer(FEATURE_SIZE * 2, FEATURE_SIZE), VectorReluLayer(), VectorLinearLayer(FEATURE_SIZE, 1)]\n",
    "model = Pipeline(pipeline=pipeline)\n",
    "optimizer = GDOptimizer(model.parameters(), lr=5e-5)\n",
    "mse = MSELoss()\n",
    "\n",
    "for i in range(MAX_ITER):\n",
    "    y_pred = model.forward(x)\n",
    "    loss = mse.loss(y_pred=y_pred, y_true=y_true)\n",
    "    loss.backward()\n",
    "    optimizer.optimize()\n",
    "    loss.zero_grad()\n",
    "    if i % 25 == 0:\n",
    "        print(f\"MSE Loss: {loss.val[0]} after {i} iters\")\n"
   ]
  },
  {
   "cell_type": "code",
   "execution_count": 4,
   "metadata": {},
   "outputs": [],
   "source": [
    "import torch\n",
    "from nn.vector_net import *\n",
    "from nn.loss import MSELoss\n",
    "import numpy as np\n",
    "from gradient.grad_vector import GradVector\n",
    "\n",
    "BATCH_SIZE = 1024\n",
    "MAX_ITER = 100\n",
    "\n",
    "\n",
    "actual = np.random.rand(BATCH_SIZE, 1)\n",
    "x = np.random.rand(BATCH_SIZE, 8)\n",
    "layer1 = VectorLinearLayer(8, 16)\n",
    "layer2 = VectorLinearLayer(16, 1)\n",
    "\n",
    "t_actual = torch.tensor(actual, requires_grad=True)\n",
    "data = torch.tensor(x, requires_grad=True)\n",
    "\n",
    "weights1 = torch.tensor(layer1.weights.val, requires_grad=True)\n",
    "weights2 = torch.tensor(layer2.weights.val, requires_grad=True)\n",
    "bias1 = torch.tensor(layer1.bias.val, requires_grad=True)\n",
    "bias2 = torch.tensor(layer2.bias.val, requires_grad=True)\n",
    "\n",
    "res = data @ weights1 + bias1\n",
    "res = res @ weights2 + bias2\n",
    "torch_mse = MSELoss.loss(res, t_actual)\n",
    "torch_mse.backward()\n",
    "\n",
    "res_gv = layer1(GradVector(x))\n",
    "res_gv = layer2(res_gv)\n",
    "gv_actual = GradVector(actual)\n",
    "gv_mse = MSELoss.loss(res_gv, gv_actual)\n",
    "gv_mse.backward()"
   ]
  },
  {
   "cell_type": "code",
   "execution_count": 5,
   "metadata": {},
   "outputs": [
    {
     "data": {
      "text/plain": [
       "True"
      ]
     },
     "execution_count": 5,
     "metadata": {},
     "output_type": "execute_result"
    }
   ],
   "source": [
    "weights1.grad.allclose(torch.tensor(layer1.weights.gradient))"
   ]
  },
  {
   "cell_type": "code",
   "execution_count": 6,
   "metadata": {},
   "outputs": [
    {
     "data": {
      "text/plain": [
       "True"
      ]
     },
     "execution_count": 6,
     "metadata": {},
     "output_type": "execute_result"
    }
   ],
   "source": [
    "bias1.grad.allclose(torch.tensor(layer1.bias.gradient))"
   ]
  },
  {
   "cell_type": "code",
   "execution_count": 9,
   "metadata": {},
   "outputs": [],
   "source": [
    "r = torch.rand((16,8,8,3))\n",
    "r = "
   ]
  },
  {
   "cell_type": "code",
   "execution_count": null,
   "metadata": {},
   "outputs": [
    {
     "data": {
      "text/plain": [
       "[[2.47616447]]"
      ]
     },
     "execution_count": 5,
     "metadata": {},
     "output_type": "execute_result"
    }
   ],
   "source": []
  }
 ],
 "metadata": {
  "kernelspec": {
   "display_name": "dev",
   "language": "python",
   "name": "python3"
  },
  "language_info": {
   "codemirror_mode": {
    "name": "ipython",
    "version": 3
   },
   "file_extension": ".py",
   "mimetype": "text/x-python",
   "name": "python",
   "nbconvert_exporter": "python",
   "pygments_lexer": "ipython3",
   "version": "3.12.2"
  }
 },
 "nbformat": 4,
 "nbformat_minor": 2
}
